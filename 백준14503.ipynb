{
 "cells": [
  {
   "cell_type": "code",
   "execution_count": null,
   "metadata": {},
   "outputs": [],
   "source": [
    "'''\n",
    "로봇 청소기가 주어졌을 때, 청소하는 영역의 개수를 구하는 프로그램을 작성하시오.\n",
    "\n",
    "로봇 청소기가 있는 장소는 N×M 크기의 직사각형으로 나타낼 수 있으며, 1×1크기의 정사각형 칸으로 나누어져 있다. \n",
    "각각의 칸은 벽 또는 빈 칸이다. 청소기는 바라보는 방향이 있으며, 이 방향은 동, 서, 남, 북중 하나이다. \n",
    "지도의 각 칸은 (r, c)로 나타낼 수 있고, r은 북쪽으로부터 떨어진 칸의 개수, c는 서쪽으로 부터 떨어진 칸의 개수이다.\n",
    "\n",
    "로봇 청소기는 다음과 같이 작동한다.\n",
    "\n",
    "현재 위치를 청소한다.\n",
    "현재 위치에서 현재 방향을 기준으로 왼쪽방향부터 차례대로 탐색을 진행한다.\n",
    "왼쪽 방향에 아직 청소하지 않은 공간이 존재한다면, 그 방향으로 회전한 다음 한 칸을 전진하고 1번부터 진행한다.\n",
    "왼쪽 방향에 청소할 공간이 없다면, 그 방향으로 회전하고 2번으로 돌아간다.\n",
    "네 방향 모두 청소가 이미 되어있거나 벽인 경우에는, 바라보는 방향을 유지한 채로 한 칸 후진을 하고 2번으로 돌아간다.\n",
    "네 방향 모두 청소가 이미 되어있거나 벽이면서, 뒤쪽 방향이 벽이라 후진도 할 수 없는 경우에는 작동을 멈춘다.\n",
    "로봇 청소기는 이미 청소되어있는 칸을 또 청소하지 않으며, 벽을 통과할 수 없다.\n",
    "\n",
    "첫째 줄에 세로 크기 N과 가로 크기 M이 주어진다. (3 ≤ N, M ≤ 50)\n",
    "\n",
    "둘째 줄에 로봇 청소기가 있는 칸의 좌표 (r, c)와 바라보는 방향 d가 주어진다. \n",
    "d가 0인 경우에는 북쪽을, 1인 경우에는 동쪽을, 2인 경우에는 남쪽을, 3인 경우에는 서쪽을 바라보고 있는 것이다.\n",
    "\n",
    "셋째 줄부터 N개의 줄에 장소의 상태가 북쪽부터 남쪽 순서대로, 각 줄은 서쪽부터 동쪽 순서대로 주어진다. \n",
    "빈 칸은 0, 벽은 1로 주어진다. 지도의 첫 행, 마지막 행, 첫 열, 마지막 열에 있는 모든 칸은 벽이다.\n",
    "\n",
    "로봇 청소기가 있는 칸의 상태는 항상 빈 칸이다.\n",
    "\n",
    "로봇 청소기가 청소하는 칸의 개수를 출력한다.\n",
    "'''"
   ]
  },
  {
   "cell_type": "code",
   "execution_count": 1,
   "metadata": {},
   "outputs": [],
   "source": [
    "def back(x,y,d):\n",
    "    if d==0 or d==1:\n",
    "        nx = x+dx[d+2]\n",
    "        ny = y+dy[d+2]\n",
    "    elif d==2 or d==3:\n",
    "        nx = x+dx[d-2]\n",
    "        ny = y+dy[d-2]\n",
    "    return nx,ny"
   ]
  },
  {
   "cell_type": "code",
   "execution_count": 4,
   "metadata": {},
   "outputs": [
    {
     "name": "stdout",
     "output_type": "stream",
     "text": [
      "3 3\n",
      "1 1 0\n",
      "1 1 1\n",
      "1 0 1\n",
      "1 1 1\n",
      "0\n"
     ]
    }
   ],
   "source": [
    "n,m = map(int,input().split())\n",
    "r,c,d = map(int,input().split())\n",
    "room = []\n",
    "visit = [[0]*m for _ in range(n)]\n",
    "#북 동 남 서\n",
    "dx = [-1,0,1,0]\n",
    "dy = [0,1,0,-1]\n",
    "\n",
    "#방향이 d일 때 왼쪽으로 회전하면?\n",
    "#(d+3)%4\n",
    "for i in range(n):\n",
    "    room.append(list(map(int,input().split())))\n",
    "\n",
    "visit[r][c] = 1\n",
    "result = 1\n",
    "while True:\n",
    "    clean = 0\n",
    "    for i in range(4):\n",
    "        nx = r + dx[(d+3)%4]\n",
    "        ny = c + dy[(d+3)%4]\n",
    "        \n",
    "        #청소 가능\n",
    "        if 0<=nx<n and 0<=ny<m and room[nx][ny]==0 and visit[nx][ny]==0:\n",
    "            d = (d+3)%4\n",
    "            visit[nx][ny]=1\n",
    "            r = nx\n",
    "            c = ny\n",
    "            result += 1\n",
    "            clean = 1\n",
    "            break\n",
    "        else:\n",
    "            d = (d+3)%4\n",
    "    if clean==0: #4방향 모두 청소불가\n",
    "        cx,cy = back(r,c,d)\n",
    "        if room[cx][cy]==1:\n",
    "            break\n",
    "        else:\n",
    "            r,c = cx,cy\n",
    "\n",
    "print(result)        "
   ]
  },
  {
   "cell_type": "code",
   "execution_count": null,
   "metadata": {},
   "outputs": [],
   "source": []
  }
 ],
 "metadata": {
  "kernelspec": {
   "display_name": "Python 3",
   "language": "python",
   "name": "python3"
  },
  "language_info": {
   "codemirror_mode": {
    "name": "ipython",
    "version": 3
   },
   "file_extension": ".py",
   "mimetype": "text/x-python",
   "name": "python",
   "nbconvert_exporter": "python",
   "pygments_lexer": "ipython3",
   "version": "3.8.5"
  }
 },
 "nbformat": 4,
 "nbformat_minor": 4
}
