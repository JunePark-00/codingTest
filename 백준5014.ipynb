{
 "cells": [
  {
   "cell_type": "code",
   "execution_count": null,
   "metadata": {},
   "outputs": [],
   "source": [
    "'''\n",
    "강호는 코딩 교육을 하는 스타트업 스타트링크에 지원했다. \n",
    "오늘은 강호의 면접날이다. 하지만, 늦잠을 잔 강호는 스타트링크가 있는 건물에 늦게 도착하고 말았다.\n",
    "\n",
    "스타트링크는 총 F층으로 이루어진 고층 건물에 사무실이 있고, 스타트링크가 있는 곳의 위치는 G층이다. \n",
    "강호가 지금 있는 곳은 S층이고, 이제 엘리베이터를 타고 G층으로 이동하려고 한다.\n",
    "\n",
    "보통 엘리베이터에는 어떤 층으로 이동할 수 있는 버튼이 있지만, 강호가 탄 엘리베이터는 버튼이 2개밖에 없다. \n",
    "U버튼은 위로 U층을 가는 버튼, D버튼은 아래로 D층을 가는 버튼이다. \n",
    "(만약, U층 위, 또는 D층 아래에 해당하는 층이 없을 때는, 엘리베이터는 움직이지 않는다)\n",
    "\n",
    "강호가 G층에 도착하려면, 버튼을 적어도 몇 번 눌러야 하는지 구하는 프로그램을 작성하시오. \n",
    "만약, 엘리베이터를 이용해서 G층에 갈 수 없다면, \"use the stairs\"를 출력한다.\n",
    "\n",
    "\n",
    "첫째 줄에 F, S, G, U, D가 주어진다. (1 ≤ S, G ≤ F ≤ 1000000, 0 ≤ U, D ≤ 1000000) \n",
    "건물은 1층부터 시작하고, 가장 높은 층은 F층이다.\n",
    "\n",
    "첫째 줄에 강호가 S층에서 G층으로 가기 위해 눌러야 하는 버튼의 수의 최솟값을 출력한다. \n",
    "만약, 엘리베이터로 이동할 수 없을 때는 \"use the stairs\"를 출력한다.\n",
    "'''"
   ]
  },
  {
   "cell_type": "code",
   "execution_count": 12,
   "metadata": {},
   "outputs": [],
   "source": [
    "def bfs(v):\n",
    "    q = deque([v])\n",
    "    visit[v] = 1\n",
    "    while q:\n",
    "        v = q.popleft()\n",
    "        if v==g:\n",
    "            return cnt[v]\n",
    "        for i in (v+u,v-d):\n",
    "            if 0<i<=f and not visit[i]:\n",
    "                visit[i] = 1\n",
    "                cnt[i] = cnt[v]+1\n",
    "                q.append(i)\n",
    "    if cnt[g]==0:\n",
    "        return \"use the stairs\""
   ]
  },
  {
   "cell_type": "code",
   "execution_count": 11,
   "metadata": {},
   "outputs": [
    {
     "name": "stdout",
     "output_type": "stream",
     "text": [
      "10 1 10 2 1\n",
      "6\n"
     ]
    }
   ],
   "source": [
    "from collections import deque\n",
    "\n",
    "f,s,g,u,d = map(int,input().split())\n",
    "visit = [0]*(f+1)\n",
    "cnt = [0]*(f+1)\n",
    "print(bfs(s))"
   ]
  },
  {
   "cell_type": "code",
   "execution_count": null,
   "metadata": {},
   "outputs": [],
   "source": []
  }
 ],
 "metadata": {
  "kernelspec": {
   "display_name": "Python 3",
   "language": "python",
   "name": "python3"
  },
  "language_info": {
   "codemirror_mode": {
    "name": "ipython",
    "version": 3
   },
   "file_extension": ".py",
   "mimetype": "text/x-python",
   "name": "python",
   "nbconvert_exporter": "python",
   "pygments_lexer": "ipython3",
   "version": "3.8.5"
  }
 },
 "nbformat": 4,
 "nbformat_minor": 4
}
