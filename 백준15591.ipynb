{
 "cells": [
  {
   "cell_type": "code",
   "execution_count": 3,
   "metadata": {},
   "outputs": [
    {
     "name": "stdout",
     "output_type": "stream",
     "text": [
      "4 3\n",
      "1 2 3\n",
      "2 3 2\n",
      "2 4 4\n",
      "1 2\n",
      "4 1\n",
      "3 1\n",
      "3\n",
      "0\n",
      "2\n"
     ]
    }
   ],
   "source": [
    "from collections import deque\n",
    "\n",
    "N,Q = map(int,input().split())\n",
    "graph = [[]for _ in range(N+1)]\n",
    "for i in range(N-1):\n",
    "    p,q,r = map(int,input().split())\n",
    "    graph[p].append((q,r))\n",
    "    graph[q].append((p,r))\n",
    "\n",
    "answer = []\n",
    "for i in range(Q):\n",
    "    k,v = map(int,input().split())\n",
    "    visit = [0]*(N+1) #이미 추천했니?\n",
    "    visit[v] = 1\n",
    "    result = 0\n",
    "    queue = deque([(v,float('inf'))]) #유사도를 양의 무한대로\n",
    "    \n",
    "    while queue:\n",
    "        v, usado = queue.pop()\n",
    "        \n",
    "        for nv,nu in graph[v]:\n",
    "            nu = min(usado,nu)\n",
    "            \n",
    "            if nu>=k and not visit[nv]:\n",
    "                result += 1\n",
    "                queue.append((nv,nu))\n",
    "                visit[nv] = 1\n",
    "    answer.append(result)\n",
    "    \n",
    "for i in range(len(answer)):\n",
    "    print(answer[i])"
   ]
  },
  {
   "cell_type": "code",
   "execution_count": null,
   "metadata": {},
   "outputs": [],
   "source": []
  }
 ],
 "metadata": {
  "kernelspec": {
   "display_name": "Python 3",
   "language": "python",
   "name": "python3"
  },
  "language_info": {
   "codemirror_mode": {
    "name": "ipython",
    "version": 3
   },
   "file_extension": ".py",
   "mimetype": "text/x-python",
   "name": "python",
   "nbconvert_exporter": "python",
   "pygments_lexer": "ipython3",
   "version": "3.8.5"
  }
 },
 "nbformat": 4,
 "nbformat_minor": 4
}
