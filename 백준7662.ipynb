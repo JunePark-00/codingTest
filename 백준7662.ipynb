{
 "cells": [
  {
   "cell_type": "code",
   "execution_count": null,
   "metadata": {},
   "outputs": [],
   "source": [
    "#우선순위 큐 --> 힙\n",
    "'''\n",
    "입력 데이터는 표준입력을 사용한다. \n",
    "입력은 T개의 테스트 데이터로 구성된다. \n",
    "입력의 첫 번째 줄에는 입력 데이터의 수를 나타내는 정수 T가 주어진다. \n",
    "각 테스트 데이터의 첫째 줄에는 Q에 적용할 연산의 개수를 나타내는 정수 k (k ≤ 1,000,000)가 주어진다. \n",
    "이어지는 k 줄 각각엔 연산을 나타내는 문자(‘D’ 또는 ‘I’)와 정수 n이 주어진다. ‘I n’은 정수 n을 Q에 삽입하는 연산을 의미한다. \n",
    "동일한 정수가 삽입될 수 있음을 참고하기 바란다. ‘D 1’는 Q에서 최댓값을 삭제하는 연산을 의미하며, ‘D -1’는 Q 에서 최솟값을 삭제하는 연산을 의미한다. \n",
    "최댓값(최솟값)을 삭제하는 연산에서 최댓값(최솟값)이 둘 이상인 경우, 하나만 삭제됨을 유념하기 바란다.\n",
    "\n",
    "만약 Q가 비어있는데 적용할 연산이 ‘D’라면 이 연산은 무시해도 좋다. Q에 저장될 모든 정수는 32-비트 정수이다. \n",
    "\n",
    "출력은 표준출력을 사용한다. 각 테스트 데이터에 대해, 모든 연산을 처리한 후 Q에 남아 있는 값 중 최댓값과 최솟값을 출력하라. \n",
    "두 값은 한 줄에 출력하되 하나의 공백으로 구분하라. 만약 Q가 비어있다면 ‘EMPTY’를 출력하라.\n",
    "\n",
    "'''"
   ]
  },
  {
   "cell_type": "markdown",
   "metadata": {},
   "source": [
    "\n"
   ]
  },
  {
   "cell_type": "code",
   "execution_count": 8,
   "metadata": {},
   "outputs": [
    {
     "name": "stdout",
     "output_type": "stream",
     "text": [
      "1\n",
      "9\n",
      "I -45\n",
      "I 653\n",
      "D 1\n",
      "I -642\n",
      "I 45\n",
      "I 97\n",
      "D 1\n",
      "D -1\n",
      "I 333\n",
      "333 -45\n"
     ]
    }
   ],
   "source": [
    "import heapq\n",
    "import sys\n",
    "input = sys.stdin.readline\n",
    "\n",
    "T = int(input())\n",
    "\n",
    "for _ in range(T):\n",
    "    min_heap, max_heap = [], []\n",
    "    visit = [False]*1000001\n",
    "    k = int(input())\n",
    "    for i in range(k):\n",
    "        m,n = input().split()\n",
    "        if m == 'I':\n",
    "            heapq.heappush(min_heap,(int(n),i))\n",
    "            heapq.heappush(max_heap,(int(n)*-1,i))\n",
    "            visit[i] = True #True: 어떤 힙에서도 삭제되지 않은 상태\n",
    "            #print(min_heap)\n",
    "            #print(max_heap)\n",
    "        if m == 'D':\n",
    "            if n == '-1': #최솟값 삭제\n",
    "                while min_heap and not visit[min_heap[0][1]]: #visit이 False이면 해당 노드 이미 삭제된 것\n",
    "                    heapq.heappop(min_heap)\n",
    "                if min_heap: #visit이 True일 때\n",
    "                    visit[min_heap[0][1]] = False #해당 노드 삭제하겠습니다\n",
    "                    heapq.heappop(min_heap)#노드 삭제\n",
    "                    \n",
    "                #print(min_heap)\n",
    "            if n == '1': #최댓값 삭제\n",
    "                while max_heap and not visit[max_heap[0][1]]:\n",
    "                    heapq.heappop(max_heap)\n",
    "                if max_heap:\n",
    "                    visit[max_heap[0][1]] = False\n",
    "                    heapq.heappop(max_heap)\n",
    "                    \n",
    "                #print(max_heap)\n",
    "    \n",
    "    while min_heap and not visit[min_heap[0][1]]: #visit에서 해당 노드 이미 삭제됐는데 값이 남아있는 것 제거\n",
    "        heapq.heappop(min_heap)\n",
    "    while max_heap and not visit[max_heap[0][1]]: \n",
    "        heapq.heappop(max_heap)\n",
    "        \n",
    "    if min_heap and max_heap:\n",
    "        print(-max_heap[0][0], min_heap[0][0])\n",
    "    else:\n",
    "        print(\"EMPTY\")\n",
    "                    "
   ]
  },
  {
   "cell_type": "code",
   "execution_count": null,
   "metadata": {},
   "outputs": [],
   "source": [
    "2\n",
    "7\n",
    "I 16\n",
    "I -5643\n",
    "D -1\n",
    "D 1\n",
    "D 1\n",
    "I 123\n",
    "D -1\n",
    "9\n",
    "I -45\n",
    "I 653\n",
    "D 1\n",
    "I -642\n",
    "I 45\n",
    "I 97\n",
    "D 1\n",
    "D -1\n",
    "I 333"
   ]
  }
 ],
 "metadata": {
  "kernelspec": {
   "display_name": "Python 3",
   "language": "python",
   "name": "python3"
  },
  "language_info": {
   "codemirror_mode": {
    "name": "ipython",
    "version": 3
   },
   "file_extension": ".py",
   "mimetype": "text/x-python",
   "name": "python",
   "nbconvert_exporter": "python",
   "pygments_lexer": "ipython3",
   "version": "3.8.5"
  }
 },
 "nbformat": 4,
 "nbformat_minor": 4
}
