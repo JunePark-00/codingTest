{
 "cells": [
  {
   "cell_type": "code",
   "execution_count": 18,
   "metadata": {},
   "outputs": [],
   "source": [
    "def solution(s):\n",
    "    #dict = {}\n",
    "    word = ['zero','one','two','three','four','five','six','seven','eight',\n",
    "           'nine']\n",
    "    for i,j in enumerate(word):\n",
    "        if j in s:\n",
    "            s = s.replace(j,str(i))\n",
    "        \n",
    "    answer = s\n",
    "    return answer"
   ]
  },
  {
   "cell_type": "code",
   "execution_count": 19,
   "metadata": {},
   "outputs": [
    {
     "data": {
      "text/plain": [
       "'1478'"
      ]
     },
     "execution_count": 19,
     "metadata": {},
     "output_type": "execute_result"
    }
   ],
   "source": [
    "1단계 new_id의 모든 대문자를 대응되는 소문자로 치환합니다.\n",
    "2단계 new_id에서 알파벳 소문자, 숫자, 빼기(-), 밑줄(_), 마침표(.)를 제외한 모든 문자를 제거합니다.\n",
    "3단계 new_id에서 마침표(.)가 2번 이상 연속된 부분을 하나의 마침표(.)로 치환합니다.\n",
    "4단계 new_id에서 마침표(.)가 처음이나 끝에 위치한다면 제거합니다.\n",
    "5단계 new_id가 빈 문자열이라면, new_id에 \"a\"를 대입합니다.\n",
    "6단계 new_id의 길이가 16자 이상이면, new_id의 첫 15개의 문자를 제외한 나머지 문자들을 모두 제거합니다.\n",
    "     만약 제거 후 마침표(.)가 new_id의 끝에 위치한다면 끝에 위치한 마침표(.) 문자를 제거합니다.\n",
    "7단계 new_id의 길이가 2자 이하라면, new_id의 마지막 문자를 new_id의 길이가 3이 될 때까지 반복해서 끝에 붙입니다."
   ]
  },
  {
   "cell_type": "code",
   "execution_count": 44,
   "metadata": {},
   "outputs": [
    {
     "data": {
      "text/plain": [
       "'bat.y.abcdefgh'"
      ]
     },
     "execution_count": 44,
     "metadata": {},
     "output_type": "execute_result"
    }
   ],
   "source": [
    "new_id = '...!@BaT#*..y.abcdefgh.ijklm'\n",
    "\n",
    "def solution(new_id):\n",
    "    text = ['-','_','.']\n",
    "    answer = ''\n",
    "    # step1&2\n",
    "    for i in new_id:\n",
    "        if(i.isalpha()):\n",
    "            i = i.lower()\n",
    "        elif(not(i.isdigit())):\n",
    "            if i not in text:\n",
    "                continue   \n",
    "        answer += i\n",
    "    \n",
    "    # step3&4\n",
    "    while '..' in answer:\n",
    "        answer = answer.replace('..','.')\n",
    "        \n",
    "    answer = answer.strip(\".\")\n",
    "    \n",
    "    #step5\n",
    "    if(answer == \"\"):\n",
    "        answer = 'a'\n",
    "    \n",
    "    #step6\n",
    "    if(len(answer)>15):\n",
    "        answer = answer[:15]\n",
    "    \n",
    "    answer = answer.strip(\".\")\n",
    "    \n",
    "    #step7\n",
    "    while(len(answer)<3):\n",
    "        answer += answer[-1]\n",
    "            \n",
    "    return answer\n",
    "\n",
    "solution(new_id)"
   ]
  },
  {
   "cell_type": "code",
   "execution_count": 13,
   "metadata": {},
   "outputs": [
    {
     "name": "stdout",
     "output_type": "stream",
     "text": [
      "xababcdcdababcdcd\n",
      "xababcdcdababcdcd\n",
      "xababcdcdababcdcd\n",
      "xababcdcdababcdcd\n",
      "xababcdcdababcdcd\n",
      "xababcdcdababcdcd\n",
      "xababcdcdababcdcd\n",
      "xababcdcdababcdcd\n"
     ]
    },
    {
     "data": {
      "text/plain": [
       "17"
      ]
     },
     "execution_count": 13,
     "metadata": {},
     "output_type": "execute_result"
    }
   ],
   "source": [
    "# 문자열 압축\n",
    "# for문으로 문자열 슬라이싱하면서 갯수 세자!\n",
    "# 쪼갤 수 있는 단위의 최대는 s의 절반이다. 넘어가면 범위초과. \n",
    "# 제일 앞부터 정해진 길이로 잘라야하기 때문임\n",
    "# aabb/accc\n",
    "\n",
    "s = 'xababcdcdababcdcd'\n",
    "\n",
    "def solution(s):\n",
    "    length = []\n",
    "\n",
    "    if(len(s)==1):\n",
    "        return 1\n",
    "\n",
    "    # 1단위로 쪼개기 ~ len(s)//2 단위로 쪼개기\n",
    "    # 앞 문자(단위)랑 겹치는지 확인\n",
    "    for i in range(1,(len(s)//2)+1):\n",
    "        final = ''\n",
    "        cnt = 1\n",
    "        temp = s[:i]\n",
    "        for j in range(i, len(s), i):\n",
    "            if(temp==s[j:j+i]):\n",
    "                cnt += 1\n",
    "            elif(cnt!=1):\n",
    "                final += str(cnt) + temp\n",
    "                temp = s[j:j+i]\n",
    "                cnt = 1\n",
    "            else:\n",
    "                final += temp\n",
    "                temp = s[j:j+i]\n",
    "                cnt = 1\n",
    "        if(cnt!=1):\n",
    "            final += str(cnt) + temp\n",
    "        else:\n",
    "            final += temp\n",
    "        \n",
    "        length.append(len(final))\n",
    "        print(final)\n",
    "    \n",
    "    answer = min(length)\n",
    "    return answer\n",
    "    \n",
    "\n",
    "solution(s)"
   ]
  },
  {
   "cell_type": "code",
   "execution_count": 33,
   "metadata": {},
   "outputs": [
    {
     "data": {
      "text/plain": [
       "['Prodo님이 들어왔습니다.', 'Ryan님이 들어왔습니다.', 'Prodo님이 나갔습니다.', 'Prodo님이 들어왔습니다.']"
      ]
     },
     "execution_count": 33,
     "metadata": {},
     "output_type": "execute_result"
    }
   ],
   "source": [
    "#프로그래머스 - 오픈채팅방\n",
    "record = [\"Enter uid1234 Muzi\", \"Enter uid4567 Prodo\",\"Leave uid1234\",\"Enter uid1234 Prodo\",\"Change uid4567 Ryan\"]\n",
    "        \n",
    "def solution(record):\n",
    "    answer = []\n",
    "    nick = {}\n",
    "    for i in record:\n",
    "        command = i.split()\n",
    "        # id에 닉네임 저장\n",
    "        if(command[0]=='Enter' or command[0]=='Change'):\n",
    "            nick[command[1]] = command[2]\n",
    "    for i in record:\n",
    "        command = i.split()\n",
    "        if(command[0]=='Enter'):\n",
    "            answer.append(f'{nick[command[1]]}님이 들어왔습니다.')\n",
    "        elif(command[0]=='Leave'):\n",
    "            answer.append(f'{nick[command[1]]}님이 나갔습니다.')\n",
    "    return answer\n",
    "\n",
    "solution(record)"
   ]
  },
  {
   "cell_type": "code",
   "execution_count": null,
   "metadata": {},
   "outputs": [],
   "source": []
  }
 ],
 "metadata": {
  "kernelspec": {
   "display_name": "Python 3",
   "language": "python",
   "name": "python3"
  },
  "language_info": {
   "codemirror_mode": {
    "name": "ipython",
    "version": 3
   },
   "file_extension": ".py",
   "mimetype": "text/x-python",
   "name": "python",
   "nbconvert_exporter": "python",
   "pygments_lexer": "ipython3",
   "version": "3.8.5"
  }
 },
 "nbformat": 4,
 "nbformat_minor": 4
}
