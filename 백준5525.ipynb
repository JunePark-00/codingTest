{
 "cells": [
  {
   "cell_type": "code",
   "execution_count": null,
   "metadata": {},
   "outputs": [],
   "source": [
    "'''\n",
    "N+1개의 I와 N개의 O로 이루어져 있으면, I와 O이 교대로 나오는 문자열을 PN이라고 한다.\n",
    "\n",
    "P1 IOI\n",
    "P2 IOIOI\n",
    "P3 IOIOIOI\n",
    "PN IOIOI...OI (O가 N개)\n",
    "I와 O로만 이루어진 문자열 S와 정수 N이 주어졌을 때, \n",
    "S안에 PN이 몇 군데 포함되어 있는지 구하는 프로그램을 작성하시오.\n",
    "\n",
    "첫째 줄에 N이 주어진다. 둘째 줄에는 S의 길이 M이 주어지며, 셋째 줄에 S가 주어진다.\n",
    "\n",
    "S에 PN이 몇 군데 포함되어 있는지 출력한다.\n",
    "\n",
    "'''"
   ]
  },
  {
   "cell_type": "code",
   "execution_count": 5,
   "metadata": {},
   "outputs": [
    {
     "name": "stdout",
     "output_type": "stream",
     "text": [
      "2\n",
      "13\n",
      "OOIOIOIOIIOII\n",
      "2\n"
     ]
    }
   ],
   "source": [
    "# O는 N개, I는 N+1개\n",
    "N = int(input())\n",
    "M = int(input())\n",
    "S = input()\n",
    "\n",
    "i = 1\n",
    "cnt1,cnt2 = 0,0\n",
    "while i<M-1:\n",
    "    if S[i-1]=='I' and S[i]=='O' and S[i+1]=='I':\n",
    "        cnt1 += 1\n",
    "        if cnt1 == N:\n",
    "            cnt2 += 1\n",
    "            cnt1 -= 1\n",
    "        i+=1\n",
    "    else:\n",
    "        cnt1 = 0\n",
    "        \n",
    "    i+=1\n",
    "print(cnt2)"
   ]
  },
  {
   "cell_type": "code",
   "execution_count": null,
   "metadata": {},
   "outputs": [],
   "source": []
  }
 ],
 "metadata": {
  "kernelspec": {
   "display_name": "Python 3",
   "language": "python",
   "name": "python3"
  },
  "language_info": {
   "codemirror_mode": {
    "name": "ipython",
    "version": 3
   },
   "file_extension": ".py",
   "mimetype": "text/x-python",
   "name": "python",
   "nbconvert_exporter": "python",
   "pygments_lexer": "ipython3",
   "version": "3.8.5"
  }
 },
 "nbformat": 4,
 "nbformat_minor": 4
}
