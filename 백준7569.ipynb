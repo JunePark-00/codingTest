{
 "cells": [
  {
   "cell_type": "code",
   "execution_count": null,
   "metadata": {},
   "outputs": [],
   "source": [
    "'''\n",
    "철수의 토마토 농장에서는 토마토를 보관하는 큰 창고를 가지고 있다. \n",
    "토마토는 아래의 그림과 같이 격자모양 상자의 칸에 하나씩 넣은 다음, 상자들을 수직으로 쌓아 올려서 창고에 보관한다.\n",
    "\n",
    "창고에 보관되는 토마토들 중에는 잘 익은 것도 있지만, 아직 익지 않은 토마토들도 있을 수 있다. \n",
    "보관 후 하루가 지나면, 익은 토마토들의 인접한 곳에 있는 익지 않은 토마토들은 익은 토마토의 영향을 받아 익게 된다. \n",
    "하나의 토마토에 인접한 곳은 위, 아래, 왼쪽, 오른쪽, 앞, 뒤 여섯 방향에 있는 토마토를 의미한다. \n",
    "대각선 방향에 있는 토마토들에게는 영향을 주지 못하며, 토마토가 혼자 저절로 익는 경우는 없다고 가정한다. \n",
    "철수는 창고에 보관된 토마토들이 며칠이 지나면 다 익게 되는지 그 최소 일수를 알고 싶어 한다.\n",
    "\n",
    "토마토를 창고에 보관하는 격자모양의 상자들의 크기와 익은 토마토들과 익지 않은 토마토들의 정보가 주어졌을 때, \n",
    "며칠이 지나면 토마토들이 모두 익는지, 그 최소 일수를 구하는 프로그램을 작성하라. \n",
    "단, 상자의 일부 칸에는 토마토가 들어있지 않을 수도 있다.\n",
    "\n",
    "첫 줄에는 상자의 크기를 나타내는 두 정수 M,N과 쌓아올려지는 상자의 수를 나타내는 H가 주어진다. \n",
    "M은 상자의 가로 칸의 수, N은 상자의 세로 칸의 수를 나타낸다. \n",
    "단, 2 ≤ M ≤ 100, 2 ≤ N ≤ 100, 1 ≤ H ≤ 100 이다. \n",
    "둘째 줄부터는 가장 밑의 상자부터 가장 위의 상자까지에 저장된 토마토들의 정보가 주어진다. \n",
    "즉, 둘째 줄부터 N개의 줄에는 하나의 상자에 담긴 토마토의 정보가 주어진다. \n",
    "각 줄에는 상자 가로줄에 들어있는 토마토들의 상태가 M개의 정수로 주어진다. \n",
    "정수 1은 익은 토마토, 정수 0 은 익지 않은 토마토, 정수 -1은 토마토가 들어있지 않은 칸을 나타낸다. \n",
    "이러한 N개의 줄이 H번 반복하여 주어진다.\n",
    "\n",
    "토마토가 하나 이상 있는 경우만 입력으로 주어진다.\n",
    "\n",
    "여러분은 토마토가 모두 익을 때까지 최소 며칠이 걸리는지를 계산해서 출력해야 한다. \n",
    "만약, 저장될 때부터 모든 토마토가 익어있는 상태이면 0을 출력해야 하고, 토마토가 모두 익지는 못하는 상황이면 -1을 출력해야 한다.\n",
    "'''"
   ]
  },
  {
   "cell_type": "code",
   "execution_count": 28,
   "metadata": {},
   "outputs": [],
   "source": [
    "def bfs():\n",
    "    while tomato:\n",
    "        x,y,z = tomato.popleft()\n",
    "        \n",
    "        for i in range(6):\n",
    "            nx, ny, nz = x+dx[i], y+dy[i], z+dz[i]\n",
    "            \n",
    "            if 0<=nx<h and 0<=ny<n and 0<=nz<m:\n",
    "                if box[nx][ny][nz] == 0:\n",
    "                    box[nx][ny][nz] = box[x][y][z] + 1\n",
    "                    tomato.append((nx,ny,nz))"
   ]
  },
  {
   "cell_type": "code",
   "execution_count": 29,
   "metadata": {},
   "outputs": [
    {
     "name": "stdout",
     "output_type": "stream",
     "text": [
      "5 3 2\n",
      "0 0 0 0 0\n",
      "0 0 0 0 0\n",
      "0 0 0 0 0\n",
      "0 0 0 0 0\n",
      "0 0 1 0 0\n",
      "0 0 0 0 0\n",
      "[[[5, 4, 3, 4, 5], [4, 3, 2, 3, 4], [5, 4, 3, 4, 5]], [[4, 3, 2, 3, 4], [3, 2, 1, 2, 3], [4, 3, 2, 3, 4]]]\n",
      "4\n"
     ]
    }
   ],
   "source": [
    "# 최소경로 : bfs\n",
    "from collections import deque\n",
    "\n",
    "m,n,h = map(int,input().split())\n",
    "tomato = deque()\n",
    "box = [[] for _ in range(h)]\n",
    "day = 0\n",
    "\n",
    "#3차원배열\n",
    "for i in range(h):\n",
    "    for j in range(n):\n",
    "        box[i].append(list(map(int,input().split())))\n",
    "\n",
    "#print(box)\n",
    "\n",
    "#이동 방향 설정\n",
    "dx = [0,0,0,0,-1,1]\n",
    "dy = [0,0,-1,1,0,0]\n",
    "dz = [-1,1,0,0,0,0]\n",
    "\n",
    "for i in range(h):\n",
    "    for j in range(n):\n",
    "        for k in range(m):\n",
    "            if box[i][j][k] == 1:\n",
    "                tomato.append((i,j,k))\n",
    "\n",
    "        \n",
    "bfs()\n",
    "#print(box)\n",
    "\n",
    "flag = False\n",
    "for i in range(h):\n",
    "    for j in range(n):\n",
    "        for k in range(m):\n",
    "            if box[i][j][k] == 0:\n",
    "                flag = True #모두 익을 수는 없음\n",
    "                break\n",
    "            else:\n",
    "                day = max(day,box[i][j][k])\n",
    "if flag:\n",
    "    day = -1\n",
    "elif day==-1:\n",
    "    day = 0\n",
    "else:\n",
    "    day -= 1\n",
    "\n",
    "print(day)"
   ]
  },
  {
   "cell_type": "code",
   "execution_count": null,
   "metadata": {},
   "outputs": [],
   "source": []
  },
  {
   "cell_type": "code",
   "execution_count": null,
   "metadata": {},
   "outputs": [],
   "source": []
  }
 ],
 "metadata": {
  "kernelspec": {
   "display_name": "Python 3",
   "language": "python",
   "name": "python3"
  },
  "language_info": {
   "codemirror_mode": {
    "name": "ipython",
    "version": 3
   },
   "file_extension": ".py",
   "mimetype": "text/x-python",
   "name": "python",
   "nbconvert_exporter": "python",
   "pygments_lexer": "ipython3",
   "version": "3.8.5"
  }
 },
 "nbformat": 4,
 "nbformat_minor": 4
}
