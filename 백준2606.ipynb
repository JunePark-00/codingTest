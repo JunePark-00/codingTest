{
 "cells": [
  {
   "cell_type": "code",
   "execution_count": 13,
   "metadata": {},
   "outputs": [],
   "source": [
    "def dfs(virus):\n",
    "    global count\n",
    "    visit[virus] = 1\n",
    "    #print(graph)\n",
    "    #print(visit)\n",
    "    for i in graph[virus]:\n",
    "        if visit[i]==0:\n",
    "            dfs(i)\n",
    "            count += 1"
   ]
  },
  {
   "cell_type": "code",
   "execution_count": 16,
   "metadata": {},
   "outputs": [
    {
     "name": "stdout",
     "output_type": "stream",
     "text": [
      "7\n",
      "6\n",
      "1 2\n",
      "2 3\n",
      "1 5\n",
      "5 2\n",
      "5 6\n",
      "4 7\n",
      "4\n"
     ]
    }
   ],
   "source": [
    "#the number of computers\n",
    "n = int(input())\n",
    "#the number of set\n",
    "m = int(input())\n",
    "count = 0\n",
    "#경로\n",
    "graph = [[]*(n+1) for _ in range(n+1)]\n",
    "#방문여부\n",
    "visit = [0]*(n+1)\n",
    "\n",
    "for i in range(m):\n",
    "    x,y = map(int,input().split())\n",
    "    graph[x].append(y)\n",
    "    graph[y].append(x)\n",
    "\n",
    "dfs(1)\n",
    "print(count)"
   ]
  },
  {
   "cell_type": "code",
   "execution_count": null,
   "metadata": {},
   "outputs": [],
   "source": []
  }
 ],
 "metadata": {
  "kernelspec": {
   "display_name": "Python 3",
   "language": "python",
   "name": "python3"
  },
  "language_info": {
   "codemirror_mode": {
    "name": "ipython",
    "version": 3
   },
   "file_extension": ".py",
   "mimetype": "text/x-python",
   "name": "python",
   "nbconvert_exporter": "python",
   "pygments_lexer": "ipython3",
   "version": "3.8.5"
  }
 },
 "nbformat": 4,
 "nbformat_minor": 4
}
