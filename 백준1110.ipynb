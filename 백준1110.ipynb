{
 "cells": [
  {
   "cell_type": "markdown",
   "id": "ffe5d65d",
   "metadata": {},
   "source": [
    "26부터 시작한다. 2+6 = 8이다. 새로운 수는 68이다. 6+8 = 14이다. 새로운 수는 84이다. 8+4 = 12이다. 새로운 수는 42이다. 4+2 = 6이다. 새로운 수는 26이다."
   ]
  },
  {
   "cell_type": "code",
   "execution_count": 10,
   "id": "a29a3092",
   "metadata": {},
   "outputs": [
    {
     "name": "stdout",
     "output_type": "stream",
     "text": [
      "1\n",
      "60\n"
     ]
    }
   ],
   "source": [
    "N = int(input())\n",
    "new = N\n",
    "count = 0\n",
    "while True:\n",
    "    a = N//10\n",
    "    b = N%10\n",
    "    N = a+b\n",
    "    N = int(str(b) + str(N%10))\n",
    "    count += 1\n",
    "    if new == N:\n",
    "        print(count)\n",
    "        break"
   ]
  },
  {
   "cell_type": "code",
   "execution_count": null,
   "id": "3f9439a4",
   "metadata": {},
   "outputs": [],
   "source": []
  }
 ],
 "metadata": {
  "kernelspec": {
   "display_name": "Python 3 (ipykernel)",
   "language": "python",
   "name": "python3"
  },
  "language_info": {
   "codemirror_mode": {
    "name": "ipython",
    "version": 3
   },
   "file_extension": ".py",
   "mimetype": "text/x-python",
   "name": "python",
   "nbconvert_exporter": "python",
   "pygments_lexer": "ipython3",
   "version": "3.9.13"
  }
 },
 "nbformat": 4,
 "nbformat_minor": 5
}
