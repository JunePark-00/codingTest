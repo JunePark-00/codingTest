{
 "cells": [
  {
   "cell_type": "code",
   "execution_count": null,
   "metadata": {},
   "outputs": [],
   "source": [
    "#후위표기식\n",
    "#stack을 이용"
   ]
  },
  {
   "cell_type": "code",
   "execution_count": 25,
   "metadata": {},
   "outputs": [
    {
     "name": "stdout",
     "output_type": "stream",
     "text": [
      "(A+B)+((D-E)/F)\n",
      "AB+DE-F/+\n"
     ]
    }
   ],
   "source": [
    "infix = input()\n",
    "operator = ['+','-','*','/','(',')']\n",
    "s = []\n",
    "answer = ''\n",
    "\n",
    "for i in infix:\n",
    "    if i in operator:\n",
    "        if i == '(':\n",
    "            s.append(i)\n",
    "        else:\n",
    "            if i == '*' or i == '/':\n",
    "                while s and (s[-1] == '*' or s[-1] == '/'):\n",
    "                    answer += s.pop()\n",
    "                s.append(i)\n",
    "            elif i == '+' or i == '-':\n",
    "                while s and s[-1] != '(':\n",
    "                    answer += s.pop()\n",
    "                s.append(i)\n",
    "            elif i == ')':\n",
    "                while s and s[-1] != '(':\n",
    "                    answer += s.pop()\n",
    "                s.pop()    \n",
    "    else:\n",
    "        answer += i\n",
    "        \n",
    "while s:\n",
    "    answer += s.pop()\n",
    "    \n",
    "print(answer)"
   ]
  },
  {
   "cell_type": "code",
   "execution_count": null,
   "metadata": {},
   "outputs": [],
   "source": []
  }
 ],
 "metadata": {
  "kernelspec": {
   "display_name": "Python 3",
   "language": "python",
   "name": "python3"
  },
  "language_info": {
   "codemirror_mode": {
    "name": "ipython",
    "version": 3
   },
   "file_extension": ".py",
   "mimetype": "text/x-python",
   "name": "python",
   "nbconvert_exporter": "python",
   "pygments_lexer": "ipython3",
   "version": "3.8.5"
  }
 },
 "nbformat": 4,
 "nbformat_minor": 4
}
