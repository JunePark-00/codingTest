{
 "cells": [
  {
   "cell_type": "code",
   "execution_count": null,
   "metadata": {},
   "outputs": [],
   "source": [
    "'''\n",
    "수빈이는 동생과 숨바꼭질을 하고 있다. \n",
    "수빈이는 현재 점 N(0 ≤ N ≤ 100,000)에 있고, 동생은 점 K(0 ≤ K ≤ 100,000)에 있다. \n",
    "수빈이는 걷거나 순간이동을 할 수 있다. 만약, 수빈이의 위치가 X일 때 걷는다면 1초 후에 X-1 또는 X+1로 이동하게 된다. \n",
    "순간이동을 하는 경우에는 1초 후에 2*X의 위치로 이동하게 된다.\n",
    "\n",
    "수빈이와 동생의 위치가 주어졌을 때, 수빈이가 동생을 찾을 수 있는 가장 빠른 시간이 몇 초 후인지 구하는 프로그램을 작성하시오.\n",
    "\n",
    "[입력]\n",
    "첫 번째 줄에 수빈이가 있는 위치 N과 동생이 있는 위치 K가 주어진다. N과 K는 정수이다.\n",
    "\n",
    "[출력]\n",
    "수빈이가 동생을 찾는 가장 빠른 시간을 출력한다.\n",
    "'''"
   ]
  },
  {
   "cell_type": "code",
   "execution_count": 14,
   "metadata": {},
   "outputs": [],
   "source": [
    "def bfs(v):\n",
    "    q = deque([v])\n",
    "    while q:\n",
    "        v = q.popleft()\n",
    "        if v == k:\n",
    "            return visit[v]\n",
    "        for i in (v-1,v+1,2*v):\n",
    "            if 0<=i<100001 and not visit[i]:\n",
    "                visit[i] = visit[v]+1\n",
    "                q.append(i)"
   ]
  },
  {
   "cell_type": "code",
   "execution_count": 17,
   "metadata": {},
   "outputs": [
    {
     "name": "stdout",
     "output_type": "stream",
     "text": [
      "5 17\n",
      "None\n"
     ]
    }
   ],
   "source": [
    "from collections import deque\n",
    "    \n",
    "n,k = map(int,input().split())\n",
    "visit = [0]*100001\n",
    "\n",
    "print(bfs(n))"
   ]
  },
  {
   "cell_type": "code",
   "execution_count": null,
   "metadata": {},
   "outputs": [],
   "source": []
  }
 ],
 "metadata": {
  "kernelspec": {
   "display_name": "Python 3",
   "language": "python",
   "name": "python3"
  },
  "language_info": {
   "codemirror_mode": {
    "name": "ipython",
    "version": 3
   },
   "file_extension": ".py",
   "mimetype": "text/x-python",
   "name": "python",
   "nbconvert_exporter": "python",
   "pygments_lexer": "ipython3",
   "version": "3.8.5"
  }
 },
 "nbformat": 4,
 "nbformat_minor": 4
}
