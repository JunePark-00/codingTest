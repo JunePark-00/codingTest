{
 "cells": [
  {
   "cell_type": "code",
   "execution_count": null,
   "metadata": {},
   "outputs": [],
   "source": [
    "'''\n",
    "계단은 한 번에 한 계단씩 또는 두 계단씩 오를 수 있다. 즉, 한 계단을 밟으면서 이어서 다음 계단이나, 다음 다음 계단으로 오를 수 있다.\n",
    "연속된 세 개의 계단을 모두 밟아서는 안 된다. 단, 시작점은 계단에 포함되지 않는다.\n",
    "마지막 도착 계단은 반드시 밟아야 한다.\n",
    "'''"
   ]
  },
  {
   "cell_type": "code",
   "execution_count": 2,
   "metadata": {},
   "outputs": [
    {
     "name": "stdout",
     "output_type": "stream",
     "text": [
      "6\n",
      "10\n",
      "20\n",
      "15\n",
      "25\n",
      "10\n",
      "20\n",
      "75\n"
     ]
    }
   ],
   "source": [
    "#import sys\n",
    "#input = sys.stdin.readline\n",
    "\n",
    "S = int(input())\n",
    "Step = []\n",
    "dp = []\n",
    "for _ in range(S):\n",
    "    Step.append(int(input()))\n",
    "\n",
    "if S == 1:\n",
    "    dp.append(S[0])\n",
    "elif S == 2:\n",
    "    dp.append(S[0]+S[1])\n",
    "else:\n",
    "    dp.append(Step[0])\n",
    "    dp.append(max(Step[0]+Step[1],Step[1]))\n",
    "    dp.append(max(Step[0]+Step[2],Step[1]+Step[2]))\n",
    "    for i in range(3,S):\n",
    "        dp.append(max(dp[i-2]+Step[i],dp[i-3]+Step[i]+Step[i-1]))\n",
    "print(dp.pop())"
   ]
  },
  {
   "cell_type": "code",
   "execution_count": null,
   "metadata": {},
   "outputs": [],
   "source": []
  }
 ],
 "metadata": {
  "kernelspec": {
   "display_name": "Python 3",
   "language": "python",
   "name": "python3"
  },
  "language_info": {
   "codemirror_mode": {
    "name": "ipython",
    "version": 3
   },
   "file_extension": ".py",
   "mimetype": "text/x-python",
   "name": "python",
   "nbconvert_exporter": "python",
   "pygments_lexer": "ipython3",
   "version": "3.8.5"
  }
 },
 "nbformat": 4,
 "nbformat_minor": 4
}
