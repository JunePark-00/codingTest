{
 "cells": [
  {
   "cell_type": "code",
   "execution_count": null,
   "metadata": {},
   "outputs": [],
   "source": [
    "'''\n",
    "절댓값 힙은 다음과 같은 연산을 지원하는 자료구조이다.\n",
    "\n",
    "배열에 정수 x (x ≠ 0)를 넣는다.\n",
    "배열에서 절댓값이 가장 작은 값을 출력하고, 그 값을 배열에서 제거한다. \n",
    "절댓값이 가장 작은 값이 여러개일 때는, 가장 작은 수를 출력하고, 그 값을 배열에서 제거한다.\n",
    "프로그램은 처음에 비어있는 배열에서 시작하게 된다.\n",
    "\n",
    "\n",
    "첫째 줄에 연산의 개수 N(1≤N≤100,000)이 주어진다. \n",
    "다음 N개의 줄에는 연산에 대한 정보를 나타내는 정수 x가 주어진다. \n",
    "만약 x가 0이 아니라면 배열에 x라는 값을 넣는(추가하는) 연산이고, \n",
    "x가 0이라면 배열에서 절댓값이 가장 작은 값을 출력하고 그 값을 배열에서 제거하는 경우이다. \n",
    "입력되는 정수는 -2^31보다 크고, 2^31보다 작다.\n",
    "\n",
    "입력에서 0이 주어진 회수만큼 답을 출력한다. \n",
    "만약 배열이 비어 있는 경우인데 절댓값이 가장 작은 값을 출력하라고 한 경우에는 0을 출력하면 된다.\n",
    "\n",
    "'''\n"
   ]
  },
  {
   "cell_type": "code",
   "execution_count": 1,
   "metadata": {},
   "outputs": [
    {
     "name": "stdout",
     "output_type": "stream",
     "text": [
      "18\n",
      "1\n",
      "-1\n",
      "0\n",
      "-1\n",
      "0\n",
      "1\n",
      "0\n",
      "0\n",
      "1\n",
      "1\n",
      "-1\n",
      "-1\n",
      "2\n",
      "-2\n",
      "0\n",
      "-1\n",
      "0\n",
      "-1\n",
      "0\n",
      "1\n",
      "0\n",
      "1\n",
      "0\n",
      "-2\n",
      "0\n",
      "2\n",
      "0\n",
      "0\n"
     ]
    }
   ],
   "source": [
    "import heapq\n",
    "#import sys\n",
    "#input = sys.stdin.readline\n",
    "\n",
    "N = int(input())\n",
    "heap = []\n",
    "\n",
    "for _ in range(N):\n",
    "    x = int(input())\n",
    "    \n",
    "    if x < 0:\n",
    "        heapq.heappush(heap,(-x,-1))\n",
    "    elif x > 0:\n",
    "        heapq.heappush(heap,(x,1))\n",
    "    else:\n",
    "        if (len(heap))==0:\n",
    "            print(0)\n",
    "        else:\n",
    "            result = heap[0][0]*heap[0][1]\n",
    "            print(result)\n",
    "            heapq.heappop(heap)"
   ]
  },
  {
   "cell_type": "code",
   "execution_count": null,
   "metadata": {},
   "outputs": [],
   "source": [
    "18\n",
    "1\n",
    "-1\n",
    "0\n",
    "0\n",
    "0\n",
    "1\n",
    "1\n",
    "-1\n",
    "-1\n",
    "2\n",
    "-2\n",
    "0\n",
    "0\n",
    "0\n",
    "0\n",
    "0\n",
    "0\n",
    "0"
   ]
  }
 ],
 "metadata": {
  "kernelspec": {
   "display_name": "Python 3",
   "language": "python",
   "name": "python3"
  },
  "language_info": {
   "codemirror_mode": {
    "name": "ipython",
    "version": 3
   },
   "file_extension": ".py",
   "mimetype": "text/x-python",
   "name": "python",
   "nbconvert_exporter": "python",
   "pygments_lexer": "ipython3",
   "version": "3.8.5"
  }
 },
 "nbformat": 4,
 "nbformat_minor": 4
}
