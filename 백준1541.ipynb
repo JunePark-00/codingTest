{
 "cells": [
  {
   "cell_type": "code",
   "execution_count": null,
   "metadata": {},
   "outputs": [],
   "source": [
    "'''\n",
    "첫째 줄에 식이 주어진다. 식은 ‘0’~‘9’, ‘+’, 그리고 ‘-’만으로 이루어져 있고, 가장 처음과 마지막 문자는 숫자이다. \n",
    "그리고 연속해서 두 개 이상의 연산자가 나타나지 않고, 5자리보다 많이 연속되는 숫자는 없다. 수는 0으로 시작할 수 있다. \n",
    "입력으로 주어지는 식의 길이는 50보다 작거나 같다.\n",
    "'''"
   ]
  },
  {
   "cell_type": "code",
   "execution_count": 2,
   "metadata": {},
   "outputs": [
    {
     "name": "stdout",
     "output_type": "stream",
     "text": [
      "55-50+40\n",
      "['55']\n",
      "[55]\n",
      "['50', '40']\n",
      "[55, 90]\n",
      "-35\n"
     ]
    }
   ],
   "source": [
    "M = input().split('-')\n",
    "num = []\n",
    "for i in M:\n",
    "    count = 0\n",
    "    S = i.split('+')\n",
    "    #print(S)\n",
    "    for j in S:\n",
    "        count += int(j)\n",
    "    num.append(count)\n",
    "    #print(num)\n",
    "n = num[0]\n",
    "for i in range(1,len(num)):\n",
    "    n -= num[i]\n",
    "print(n)"
   ]
  },
  {
   "cell_type": "code",
   "execution_count": null,
   "metadata": {},
   "outputs": [],
   "source": []
  }
 ],
 "metadata": {
  "kernelspec": {
   "display_name": "Python 3",
   "language": "python",
   "name": "python3"
  },
  "language_info": {
   "codemirror_mode": {
    "name": "ipython",
    "version": 3
   },
   "file_extension": ".py",
   "mimetype": "text/x-python",
   "name": "python",
   "nbconvert_exporter": "python",
   "pygments_lexer": "ipython3",
   "version": "3.8.5"
  }
 },
 "nbformat": 4,
 "nbformat_minor": 4
}
