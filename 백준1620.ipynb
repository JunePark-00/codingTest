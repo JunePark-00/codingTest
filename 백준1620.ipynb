{
 "cells": [
  {
   "cell_type": "code",
   "execution_count": null,
   "metadata": {},
   "outputs": [],
   "source": [
    "'''\n",
    "포켓몬 도감에서 포켓몬의 이름을 보면 포켓몬의 번호\n",
    "포켓몬의 번호를 보면 포켓몬의 이름\n",
    "\n",
    "첫째 줄에는 도감에 수록되어 있는 포켓몬의 개수 N이랑 내가 맞춰야 하는 문제의 개수 M\n",
    "둘째 줄부터 N개의 줄에 포켓몬의 번호가 1번인 포켓몬부터 N번에 해당하는 포켓몬까지 한 줄에 하나씩 입력으로 들어와\n",
    "첫글자: 대문자, 나머지는 소문자\n",
    "일부 포켓몬은 마지막 문자만 대문자일 수도 있어. 포켓몬 이름의 최대 길이는 20, 최소 길이는 2야.\n",
    "그 다음 줄부터 총 M개의 줄에 내가 맞춰야하는 문제가 입력으로 들어와. \n",
    "문제가 알파벳으로만 들어오면 포켓몬 번호를 말해야 하고, 숫자로만 들어오면, 포켓몬 번호에 해당하는 문자를 출력해야해. \n",
    "입력으로 들어오는 숫자는 반드시 1보다 크거나 같고, N보다 작거나 같고, 입력으로 들어오는 문자는 반드시 도감에 있는 포켓몬의 이름만 주어져.\n",
    "\n",
    "'''"
   ]
  },
  {
   "cell_type": "code",
   "execution_count": 15,
   "metadata": {},
   "outputs": [
    {
     "name": "stdout",
     "output_type": "stream",
     "text": [
      "3 2\n",
      "poke\n",
      "mon\n",
      "pika\n",
      "pika\n",
      "3\n",
      "1\n",
      "poke\n"
     ]
    }
   ],
   "source": [
    "N,M = map(int,input().split())\n",
    "\n",
    "dic = {}\n",
    "li = []\n",
    "\n",
    "for i in range(N):\n",
    "    poketmon = input()\n",
    "    li.append(poketmon)\n",
    "    dic[poketmon] = i+1\n",
    "    \n",
    "for _ in range(M):\n",
    "    q = input()\n",
    "    if q.isdigit():\n",
    "        print(li[int(q)-1])\n",
    "    else:\n",
    "        print(dic[q])"
   ]
  },
  {
   "cell_type": "code",
   "execution_count": null,
   "metadata": {},
   "outputs": [],
   "source": []
  }
 ],
 "metadata": {
  "kernelspec": {
   "display_name": "Python 3",
   "language": "python",
   "name": "python3"
  },
  "language_info": {
   "codemirror_mode": {
    "name": "ipython",
    "version": 3
   },
   "file_extension": ".py",
   "mimetype": "text/x-python",
   "name": "python",
   "nbconvert_exporter": "python",
   "pygments_lexer": "ipython3",
   "version": "3.8.5"
  }
 },
 "nbformat": 4,
 "nbformat_minor": 4
}
