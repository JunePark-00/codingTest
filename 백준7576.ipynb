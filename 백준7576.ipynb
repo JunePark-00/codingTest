{
 "cells": [
  {
   "cell_type": "code",
   "execution_count": 8,
   "metadata": {},
   "outputs": [
    {
     "name": "stdout",
     "output_type": "stream",
     "text": [
      "6 4\n",
      "0 0 0 0 0 0\n",
      "0 0 0 0 0 0\n",
      "0 0 0 0 0 0\n",
      "0 0 0 0 0 1\n",
      "8\n"
     ]
    }
   ],
   "source": [
    "# 최소경로 : bfs\n",
    "from collections import deque\n",
    "\n",
    "m,n = map(int,input().split())\n",
    "tomato = deque()\n",
    "box = []\n",
    "day = 0\n",
    "\n",
    "for i in range(n):\n",
    "    box.append(list(map(int,input().split())))\n",
    "\n",
    "#print(box)\n",
    "\n",
    "#이동 방향 설정\n",
    "dx = [-1,1,0,0]\n",
    "dy = [0,0,-1,1]\n",
    "\n",
    "\n",
    "for i in range(n):\n",
    "    for j in range(m):\n",
    "            if box[i][j] == 1:\n",
    "                tomato.append((i,j))\n",
    "\n",
    "\n",
    "def bfs():\n",
    "    while tomato:\n",
    "        x,y = tomato.popleft()\n",
    "        \n",
    "        for i in range(4):\n",
    "            nx, ny = x+dx[i], y+dy[i]\n",
    "            \n",
    "            if 0<=nx<n and 0<=ny<m:\n",
    "                if box[nx][ny] == 0:\n",
    "                    box[nx][ny] = box[x][y] + 1\n",
    "                    tomato.append((nx,ny))\n",
    "bfs()\n",
    "#print(box)\n",
    "\n",
    "flag = False\n",
    "\n",
    "for i in range(n):\n",
    "    for j in range(m):\n",
    "        if box[i][j] == 0:\n",
    "            flag = True #모두 익을 수는 없음\n",
    "            break\n",
    "        else:\n",
    "            day = max(day,box[i][j])\n",
    "if flag:\n",
    "    day = -1\n",
    "elif day==-1:\n",
    "    day = 0\n",
    "else:\n",
    "    day -= 1\n",
    "\n",
    "print(day)"
   ]
  },
  {
   "cell_type": "code",
   "execution_count": null,
   "metadata": {},
   "outputs": [],
   "source": []
  }
 ],
 "metadata": {
  "kernelspec": {
   "display_name": "Python 3",
   "language": "python",
   "name": "python3"
  },
  "language_info": {
   "codemirror_mode": {
    "name": "ipython",
    "version": 3
   },
   "file_extension": ".py",
   "mimetype": "text/x-python",
   "name": "python",
   "nbconvert_exporter": "python",
   "pygments_lexer": "ipython3",
   "version": "3.8.5"
  }
 },
 "nbformat": 4,
 "nbformat_minor": 4
}
