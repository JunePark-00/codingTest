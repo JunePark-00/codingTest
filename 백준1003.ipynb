{
 "cells": [
  {
   "cell_type": "code",
   "execution_count": 17,
   "metadata": {},
   "outputs": [],
   "source": [
    "def fibo(n):\n",
    "    global zero,one,flag\n",
    "    if n==0:\n",
    "        flag=0\n",
    "        zero+=1\n",
    "        return zero\n",
    "    elif n==1:\n",
    "        flag=1\n",
    "        one+=1\n",
    "        return one\n",
    "    else:\n",
    "        return fibo(n-1)+fibo(n-2)"
   ]
  },
  {
   "cell_type": "code",
   "execution_count": 20,
   "metadata": {},
   "outputs": [
    {
     "name": "stdout",
     "output_type": "stream",
     "text": [
      "3\n",
      "0\n",
      "1\n",
      "3\n",
      "1 0 \n",
      "0 1 \n",
      "1 2 \n"
     ]
    }
   ],
   "source": [
    "t = int(input())\n",
    "array = []\n",
    "for i in range(t):\n",
    "    zero = 0\n",
    "    one = 0\n",
    "    n = int(input())\n",
    "    fibo(n)\n",
    "    if flag==0:\n",
    "        array.append([zero,one])\n",
    "    if flag==1:\n",
    "        array.append([zero,one])\n",
    "        \n",
    "for i in range(t):\n",
    "    for j in range(2):\n",
    "        print(array[i][j],end=' ')\n",
    "    print()"
   ]
  },
  {
   "cell_type": "code",
   "execution_count": 22,
   "metadata": {},
   "outputs": [
    {
     "name": "stdout",
     "output_type": "stream",
     "text": [
      "3\n",
      "0\n",
      "1\n",
      "3\n",
      "1 0 \n",
      "0 1 \n",
      "1 2 \n"
     ]
    }
   ],
   "source": [
    "T = int(input())\n",
    "arr = []\n",
    "for _ in range(T):\n",
    "    N = int(input())\n",
    "    zero,one = 1,0\n",
    "    for i in range(N):\n",
    "        zero,one = one,zero+one\n",
    "    arr.append([zero, one])\n",
    "    \n",
    "for i in range(T):\n",
    "    for j in range(2):\n",
    "        print(arr[i][j],end=' ')\n",
    "    print()"
   ]
  },
  {
   "cell_type": "code",
   "execution_count": null,
   "metadata": {},
   "outputs": [],
   "source": []
  }
 ],
 "metadata": {
  "kernelspec": {
   "display_name": "Python 3",
   "language": "python",
   "name": "python3"
  },
  "language_info": {
   "codemirror_mode": {
    "name": "ipython",
    "version": 3
   },
   "file_extension": ".py",
   "mimetype": "text/x-python",
   "name": "python",
   "nbconvert_exporter": "python",
   "pygments_lexer": "ipython3",
   "version": "3.8.5"
  }
 },
 "nbformat": 4,
 "nbformat_minor": 4
}
