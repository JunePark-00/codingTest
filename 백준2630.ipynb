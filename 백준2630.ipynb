{
 "cells": [
  {
   "cell_type": "code",
   "execution_count": 8,
   "metadata": {},
   "outputs": [
    {
     "name": "stdout",
     "output_type": "stream",
     "text": [
      "8\n",
      "1 1 0 0 0 0 1 1\n",
      "1 1 0 0 0 0 1 1\n",
      "0 0 0 0 1 1 0 0\n",
      "0 0 0 0 1 1 0 0\n",
      "1 0 0 0 1 1 1 1\n",
      "0 1 0 0 1 1 1 1\n",
      "0 0 1 1 1 1 1 1\n",
      "0 0 1 1 1 1 1 1\n",
      "9\n",
      "7\n"
     ]
    }
   ],
   "source": [
    "N = int(input())\n",
    "paper = []\n",
    "for _ in range(N):\n",
    "    paper.append(list(map(int,input().split())))\n",
    "#print(paper)\n",
    "white_cnt = 0\n",
    "blue_cnt = 0\n",
    "\n",
    "def recursive(x,y,n):\n",
    "    global white_cnt, blue_cnt\n",
    "    color = paper[x][y]\n",
    "    for i in range(x,x+n):\n",
    "        for j in range(y,y+n):\n",
    "            if color != paper[i][j]:\n",
    "                recursive(x,y,n//2)\n",
    "                recursive(x+n//2,y,n//2)\n",
    "                recursive(x,y+n//2,n//2)\n",
    "                recursive(x+n//2,y+n//2,n//2)\n",
    "                return\n",
    "    if color==0:\n",
    "        white_cnt += 1\n",
    "    else:\n",
    "        blue_cnt += 1\n",
    "    \n",
    "recursive(0,0,N)\n",
    "print(white_cnt)\n",
    "print(blue_cnt)"
   ]
  },
  {
   "cell_type": "code",
   "execution_count": null,
   "metadata": {},
   "outputs": [],
   "source": [
    "8\n",
    "1 1 0 0 0 0 1 1\n",
    "1 1 0 0 0 0 1 1\n",
    "0 0 0 0 1 1 0 0\n",
    "0 0 0 0 1 1 0 0\n",
    "1 0 0 0 1 1 1 1\n",
    "0 1 0 0 1 1 1 1\n",
    "0 0 1 1 1 1 1 1\n",
    "0 0 1 1 1 1 1 1"
   ]
  },
  {
   "cell_type": "code",
   "execution_count": 4,
   "metadata": {},
   "outputs": [
    {
     "name": "stdout",
     "output_type": "stream",
     "text": [
      "2\n",
      "0 1\n",
      "1 0\n",
      "[[0, 1], [1, 0]]\n"
     ]
    }
   ],
   "source": [
    "N = int(input())\n",
    "paper = []\n",
    "for _ in range(N):\n",
    "    paper.append(list(map(int,input().split())))\n",
    "print(paper)"
   ]
  },
  {
   "cell_type": "code",
   "execution_count": null,
   "metadata": {},
   "outputs": [],
   "source": []
  },
  {
   "cell_type": "code",
   "execution_count": null,
   "metadata": {},
   "outputs": [],
   "source": []
  }
 ],
 "metadata": {
  "kernelspec": {
   "display_name": "Python 3",
   "language": "python",
   "name": "python3"
  },
  "language_info": {
   "codemirror_mode": {
    "name": "ipython",
    "version": 3
   },
   "file_extension": ".py",
   "mimetype": "text/x-python",
   "name": "python",
   "nbconvert_exporter": "python",
   "pygments_lexer": "ipython3",
   "version": "3.8.5"
  }
 },
 "nbformat": 4,
 "nbformat_minor": 4
}
